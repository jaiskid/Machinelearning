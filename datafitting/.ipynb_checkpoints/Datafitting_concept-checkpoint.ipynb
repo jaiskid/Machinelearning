{
 "cells": [
  {
   "cell_type": "code",
   "execution_count": 33,
   "metadata": {},
   "outputs": [],
   "source": [
    "import numpy as np\n",
    "import pandas as pd\n",
    "import matplotlib.pyplot as plt"
   ]
  },
  {
   "cell_type": "code",
   "execution_count": 34,
   "metadata": {},
   "outputs": [],
   "source": [
    "dfx=pd.read_csv('./datasets/weightedX.csv')\n",
    "dfy=pd.read_csv('./datasets/weightedY.csv')"
   ]
  },
  {
   "cell_type": "code",
   "execution_count": 75,
   "metadata": {},
   "outputs": [],
   "source": [
    "x=dfx.values\n",
    "y=dfy.values"
   ]
  },
  {
   "cell_type": "code",
   "execution_count": 76,
   "metadata": {},
   "outputs": [
    {
     "name": "stdout",
     "output_type": "stream",
     "text": [
      "(99, 1) (99, 1)\n"
     ]
    }
   ],
   "source": [
    "print(x.shape,y.shape)"
   ]
  },
  {
   "cell_type": "code",
   "execution_count": 77,
   "metadata": {},
   "outputs": [
    {
     "data": {
      "text/plain": [
       "<matplotlib.collections.PathCollection at 0x1a28086128>"
      ]
     },
     "execution_count": 77,
     "metadata": {},
     "output_type": "execute_result"
    },
    {
     "data": {
      "image/png": "[encoded data removed]",
      "text/plain": [
       "<Figure size 432x288 with 1 Axes>"
      ]
     },
     "metadata": {},
     "output_type": "display_data"
    }
   ],
   "source": [
    "X=(x-x.mean())/x.std()\n",
    "Y=y\n",
    "plt.scatter(X,Y)"
   ]
  },
  {
   "cell_type": "code",
   "execution_count": 66,
   "metadata": {},
   "outputs": [],
   "source": [
    "from sklearn.linear_model import LinearRegression"
   ]
  },
  {
   "cell_type": "code",
   "execution_count": 67,
   "metadata": {},
   "outputs": [],
   "source": [
    "model=LinearRegression()"
   ]
  },
  {
   "cell_type": "code",
   "execution_count": 68,
   "metadata": {},
   "outputs": [
    {
     "data": {
      "text/plain": [
       "LinearRegression(copy_X=True, fit_intercept=True, n_jobs=1, normalize=False)"
      ]
     },
     "execution_count": 68,
     "metadata": {},
     "output_type": "execute_result"
    }
   ],
   "source": [
    "model.fit(X,Y)"
   ]
  },
  {
   "cell_type": "code",
   "execution_count": 90,
   "metadata": {},
   "outputs": [
    {
     "name": "stdout",
     "output_type": "stream",
     "text": [
      "[ 1.35778746  0.63547656  1.36097662  1.92735564  1.66070771  1.12485044\n",
      " -0.27504444  1.7839215   1.57830749  1.19658315  1.5982217   1.23944462\n",
      "  1.75816207 -0.78923495  1.71920166  1.83700401  0.90706514  1.90481067\n",
      " -1.49982861  1.78319793  1.84859108 -0.67028795  1.78096321 -0.09196324\n",
      "  1.66724775  0.31953079  0.46761456  0.54165806  1.90798774  1.61216047\n",
      " -1.55287643 -0.21233989  1.91547832  1.21565237  1.92491991  1.81438193\n",
      " -0.08526574  1.86435656  1.62924281  1.80245614  1.885868    1.51773307\n",
      "  1.3102933   1.92009103 -2.16476378  1.17349458  1.26939367  0.92346864\n",
      "  1.9241988   1.41086059  1.72557787  1.71059361  0.31794713 -0.52475102\n",
      "  1.78133464  1.27577536  1.32250359  1.90791511  0.04882077  1.61089335\n",
      " -2.09671138  0.72935391  1.90487845  1.83547482  1.21059948  1.20863066\n",
      "  0.27692608 -1.15528842  1.86424872  1.74476446  0.57831899  1.49934084\n",
      " -1.65415293 -1.21968408  1.66331654  1.92064318 -1.76767475  1.18579144\n",
      "  1.61359994  1.92590623  1.81117584  1.67390313  1.63071119  1.88810694\n",
      "  0.17241838  1.35968047 -1.18942339  1.74606108  1.52194026  1.66474726\n",
      "  1.9001911   0.35677459  1.10051413  0.86185293  0.71902465  1.34150491\n",
      "  1.72583686  1.92561397  1.62167636]\n"
     ]
    }
   ],
   "source": [
    "output=model.predict(X)\n",
    "print(output)"
   ]
  },
  {
   "cell_type": "code",
   "execution_count": 70,
   "metadata": {},
   "outputs": [
    {
     "data": {
      "text/plain": [
       "<matplotlib.collections.PathCollection at 0x1a281cbb70>"
      ]
     },
     "execution_count": 70,
     "metadata": {},
     "output_type": "execute_result"
    },
    {
     "data": {
      "image/png": "[encoded data removed]",
      "text/plain": [
       "<Figure size 432x288 with 1 Axes>"
      ]
     },
     "metadata": {},
     "output_type": "display_data"
    }
   ],
   "source": [
    "plt.scatter(X,Y)\n",
    "plt.scatter(X,output)"
   ]
  },
  {
   "cell_type": "code",
   "execution_count": 71,
   "metadata": {},
   "outputs": [
    {
     "data": {
      "text/plain": [
       "0.5141377991406518"
      ]
     },
     "execution_count": 71,
     "metadata": {},
     "output_type": "execute_result"
    }
   ],
   "source": [
    "model.score(X,Y)"
   ]
  },
  {
   "cell_type": "markdown",
   "metadata": {},
   "source": [
    "### X1=X\n",
    "### X2=X**2\n",
    "### New Normalize data in the form of stack X\n",
    "## we will add new feature"
   ]
  },
  {
   "cell_type": "code",
   "execution_count": 74,
   "metadata": {},
   "outputs": [],
   "source": [
    "x=dfx.values\n",
    "y=dfy.values"
   ]
  },
  {
   "cell_type": "code",
   "execution_count": 79,
   "metadata": {},
   "outputs": [],
   "source": [
    "x=x.reshape(-1)\n",
    "y=y.reshape(-1)"
   ]
  },
  {
   "cell_type": "code",
   "execution_count": 80,
   "metadata": {},
   "outputs": [
    {
     "data": {
      "text/plain": [
       "<matplotlib.collections.PathCollection at 0x1a283f9198>"
      ]
     },
     "execution_count": 80,
     "metadata": {},
     "output_type": "execute_result"
    },
    {
     "data": {
      "image/png": "[encoded data removed]",
      "text/plain": [
       "<Figure size 432x288 with 1 Axes>"
      ]
     },
     "metadata": {},
     "output_type": "display_data"
    }
   ],
   "source": [
    "Z=(x-x.mean())/x.std()\n",
    "K=y\n",
    "plt.scatter(X,Y)"
   ]
  },
  {
   "cell_type": "code",
   "execution_count": 81,
   "metadata": {},
   "outputs": [],
   "source": [
    "X1=Z\n",
    "X2=Z**2\n",
    "X=np.stack((X1,X2),axis=1)"
   ]
  },
  {
   "cell_type": "code",
   "execution_count": 84,
   "metadata": {},
   "outputs": [
    {
     "name": "stdout",
     "output_type": "stream",
     "text": [
      "(99, 2)\n",
      "(99,)\n"
     ]
    }
   ],
   "source": [
    "print(X.shape)\n",
    "print(K.shape)"
   ]
  },
  {
   "cell_type": "code",
   "execution_count": 85,
   "metadata": {},
   "outputs": [
    {
     "data": {
      "text/plain": [
       "LinearRegression(copy_X=True, fit_intercept=True, n_jobs=1, normalize=False)"
      ]
     },
     "execution_count": 85,
     "metadata": {},
     "output_type": "execute_result"
    }
   ],
   "source": [
    "model.fit(X,K)"
   ]
  },
  {
   "cell_type": "code",
   "execution_count": 86,
   "metadata": {},
   "outputs": [
    {
     "data": {
      "text/plain": [
       "0.8152095679916156"
      ]
     },
     "execution_count": 86,
     "metadata": {},
     "output_type": "execute_result"
    }
   ],
   "source": []
  },
  {
   "cell_type": "code",
   "execution_count": 89,
   "metadata": {},
   "outputs": [
    {
     "name": "stdout",
     "output_type": "stream",
     "text": [
      "[ 1.35778746  0.63547656  1.36097662  1.92735564  1.66070771  1.12485044\n",
      " -0.27504444  1.7839215   1.57830749  1.19658315  1.5982217   1.23944462\n",
      "  1.75816207 -0.78923495  1.71920166  1.83700401  0.90706514  1.90481067\n",
      " -1.49982861  1.78319793  1.84859108 -0.67028795  1.78096321 -0.09196324\n",
      "  1.66724775  0.31953079  0.46761456  0.54165806  1.90798774  1.61216047\n",
      " -1.55287643 -0.21233989  1.91547832  1.21565237  1.92491991  1.81438193\n",
      " -0.08526574  1.86435656  1.62924281  1.80245614  1.885868    1.51773307\n",
      "  1.3102933   1.92009103 -2.16476378  1.17349458  1.26939367  0.92346864\n",
      "  1.9241988   1.41086059  1.72557787  1.71059361  0.31794713 -0.52475102\n",
      "  1.78133464  1.27577536  1.32250359  1.90791511  0.04882077  1.61089335\n",
      " -2.09671138  0.72935391  1.90487845  1.83547482  1.21059948  1.20863066\n",
      "  0.27692608 -1.15528842  1.86424872  1.74476446  0.57831899  1.49934084\n",
      " -1.65415293 -1.21968408  1.66331654  1.92064318 -1.76767475  1.18579144\n",
      "  1.61359994  1.92590623  1.81117584  1.67390313  1.63071119  1.88810694\n",
      "  0.17241838  1.35968047 -1.18942339  1.74606108  1.52194026  1.66474726\n",
      "  1.9001911   0.35677459  1.10051413  0.86185293  0.71902465  1.34150491\n",
      "  1.72583686  1.92561397  1.62167636]\n"
     ]
    }
   ],
   "source": [
    "fitted_output=model.predict(X)\n",
    "print(fitted_output)"
   ]
  },
  {
   "cell_type": "code",
   "execution_count": 91,
   "metadata": {},
   "outputs": [
    {
     "data": {
      "text/plain": [
       "<matplotlib.collections.PathCollection at 0x1a284ea7f0>"
      ]
     },
     "execution_count": 91,
     "metadata": {},
     "output_type": "execute_result"
    },
    {
     "data": {
      "image/png": "[encoded data removed]",
      "text/plain": [
       "<Figure size 432x288 with 1 Axes>"
      ]
     },
     "metadata": {},
     "output_type": "display_data"
    }
   ],
   "source": [
    "plt.scatter(X[:,0],K)\n",
    "plt.scatter(X[:,0],fitted_output)"
   ]
  },
  {
   "cell_type": "code",
   "execution_count": null,
   "metadata": {},
   "outputs": [],
   "source": []
  }
 ],
 "metadata": {
  "kernelspec": {
   "display_name": "Python 3",
   "language": "python",
   "name": "python3"
  },
  "language_info": {
   "codemirror_mode": {
    "name": "ipython",
    "version": 3
   },
   "file_extension": ".py",
   "mimetype": "text/x-python",
   "name": "python",
   "nbconvert_exporter": "python",
   "pygments_lexer": "ipython3",
   "version": "3.6.5"
  }
 },
 "nbformat": 4,
 "nbformat_minor": 2
}
